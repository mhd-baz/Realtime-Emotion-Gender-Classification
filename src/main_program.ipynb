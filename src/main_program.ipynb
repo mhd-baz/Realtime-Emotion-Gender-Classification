{
 "cells": [
  {
   "cell_type": "markdown",
   "metadata": {},
   "source": [
    "<br> Ayman FAHSI | A20440820\n",
    "\n",
    "Mouhammad BAZZI | A20522180\n",
    "\n",
    "\n",
    "CS577 - Fall 2022</br> <h1><br><b><font color='red'>Project</font></br></h1>"
   ]
  },
  {
   "cell_type": "markdown",
   "metadata": {},
   "source": [
    "# <h1><b><font color='ORANGE'>MAIN PROGRAM</h1>"
   ]
  },
  {
   "cell_type": "markdown",
   "metadata": {},
   "source": [
    "## **LIBRAIRES IMPORTATIONS**"
   ]
  },
  {
   "cell_type": "code",
   "execution_count": null,
   "metadata": {},
   "outputs": [],
   "source": [
    "#Importing the libraries\n",
    "import cv2\n",
    "import numpy as np\n",
    "from tensorflow.keras.models import load_model"
   ]
  },
  {
   "cell_type": "markdown",
   "metadata": {},
   "source": [
    "## **GLOBAL VARIABLES**"
   ]
  },
  {
   "cell_type": "code",
   "execution_count": null,
   "metadata": {},
   "outputs": [],
   "source": [
    "############################################################################################################\n",
    "#WE DEFINE THE CONSTANTS\n",
    "\n",
    "GENDER_MODEL_PATH = \"../data/models/gender/gender_residual_aug.h5\"\n",
    "EMOTION_MODEL_PATH = \"../data/models/emotion/emotion_residual_noaug.h5\"\n",
    "\n",
    "IS_WEBCAM_INPUT = False  #If we want to use the webcam as input\n",
    "INPUT_VIDEO_PATH = \"../data/video_for_testing.mp4\" #Path of the video if we want to use a video as input\n",
    "\n",
    "############################################################################################################\n",
    "############################################################################################################"
   ]
  },
  {
   "cell_type": "markdown",
   "metadata": {},
   "source": [
    "## **MAIN PROGRAM**"
   ]
  },
  {
   "cell_type": "code",
   "execution_count": null,
   "metadata": {},
   "outputs": [],
   "source": [
    "#We will use OpenCV to detect the faces, and then apply our models to each face to predict there gender and emotion\n",
    "#We will use the following emotions: ['Angry', 'Disgust', 'Fear', 'Happy', 'Sad', 'Surprise', 'Neutral']\n",
    "\n",
    "#--------------------------------------------#\n",
    "\n",
    "EMOTIONS = ['Angry', 'Disgust', 'Fear', 'Happy', 'Sad', 'Surprise', 'Neutral']\n",
    "\n",
    "#--------------------------------------------#\n",
    "\n",
    "#We will use the Haar Cascade Classifier to detect the faces\n",
    "face_cascade = cv2.CascadeClassifier(cv2.data.haarcascades + 'haarcascade_frontalface_default.xml')\n",
    "\n",
    "#We will use our gender model to predict the gender\n",
    "gender_model = load_model(GENDER_MODEL_PATH)\n",
    "\n",
    "#We will use our emotion model to predict the emotion\n",
    "emotion_model = load_model(EMOTION_MODEL_PATH)\n",
    "\n",
    "#--------------------------------------------#\n",
    "\n",
    "#If we want to use the webcam as input\n",
    "if IS_WEBCAM_INPUT:\n",
    "    cap = cv2.VideoCapture(0)\n",
    "#If we want to use a video as input\n",
    "else:\n",
    "    cap = cv2.VideoCapture(INPUT_VIDEO_PATH)\n",
    "\n",
    "#--------------------------------------------#\n",
    "\n",
    "#We will loop over the frames\n",
    "while True:\n",
    "    #Read the frame\n",
    "    _, img = cap.read()\n",
    "    # Convert to color image\n",
    "    gray = cv2.cvtColor(img, cv2.COLOR_BGR2GRAY)\n",
    "    #Detect the faces in color image\n",
    "    faces = face_cascade.detectMultiScale(gray, 1.1, 4)\n",
    "    if len(faces) > 0:\n",
    "        #We will apply the gender model to each face\n",
    "        #Make the face 10% bigger\n",
    "        for (x, y, w, h) in faces:\n",
    "            #We will make the face 10% bigger\n",
    "            x = int(x - 0.1 * w)\n",
    "            y = int(y - 0.1 * h)\n",
    "            w = int(1.2 * w)\n",
    "            h = int(1.2 * h)\n",
    "            #We will make sure that the face is not out of the image\n",
    "            if x < 0:\n",
    "                x = 0\n",
    "            if y < 0:\n",
    "                y = 0\n",
    "            if x + w > img.shape[1]:\n",
    "                w = img.shape[1] - x\n",
    "            if y + h > img.shape[0]:\n",
    "                h = img.shape[0] - y\n",
    "\n",
    "\n",
    "            #Crop the face\n",
    "            face = gray[y:y+h, x:x+w]\n",
    "            color_face = img[y:y+h, x:x+w]\n",
    "\n",
    "            #--------------------------------------------#\n",
    "\n",
    "            #Resize the face to 64x64\n",
    "            color_face = cv2.resize(color_face, (64, 64))\n",
    "            #Reshape the face to 1x64x64\n",
    "            face_g = color_face.reshape(1, 64, 64, 3)\n",
    "            #Predict the gender\n",
    "            prediction_g = gender_model.predict(face_g)\n",
    "            #Get the index of the highest probability\n",
    "            index_g = np.argmax(prediction_g)\n",
    "\n",
    "            #Draw the rectangle around the face\n",
    "            cv2.rectangle(img, (x, y), (x+w, y+h), (255, 0, 0), 2)\n",
    "            #Draw the text\n",
    "            if index_g == 0:\n",
    "                cv2.putText(img, \"Woman\", (x, y), cv2.FONT_HERSHEY_SIMPLEX, 1, (0, 255, 0), 2)\n",
    "            else:\n",
    "                cv2.putText(img, \"Man\", (x, y), cv2.FONT_HERSHEY_SIMPLEX, 1, (0, 255, 0), 2)\n",
    "            \n",
    "            #--------------------------------------------#\n",
    "\n",
    "            #Resize the face to 48x48\n",
    "            face_e = cv2.resize(face, (48, 48))\n",
    "            #Reshape the face to 1x48x48\n",
    "            face_e = face_e.reshape(1, 48, 48, 1)\n",
    "            #Predict the emotion\n",
    "            prediction_e = emotion_model.predict(face_e)\n",
    "            #Get the index of the highest probability\n",
    "            index_e = np.argmax(prediction_e)\n",
    "            #Draw the text\n",
    "            cv2.putText(img, EMOTIONS[index_e], (x, y+h+20), cv2.FONT_HERSHEY_SIMPLEX, 1, (0, 255, 0), 2)\n",
    "\n",
    "            #--------------------------------------------#\n",
    "\n",
    "    #Display\n",
    "    cv2.imshow('img', img)\n",
    "\n",
    "    #Stop if escape key is pressed\n",
    "    k = cv2.waitKey(30) & 0xff\n",
    "    if k==27:\n",
    "        break\n",
    "    \n",
    "#Release the VideoCapture object\n",
    "cap.release()\n",
    "\n",
    "\n"
   ]
  }
 ],
 "metadata": {
  "kernelspec": {
   "display_name": "Python 3.8.3 64-bit",
   "language": "python",
   "name": "python3"
  },
  "language_info": {
   "codemirror_mode": {
    "name": "ipython",
    "version": 3
   },
   "file_extension": ".py",
   "mimetype": "text/x-python",
   "name": "python",
   "nbconvert_exporter": "python",
   "pygments_lexer": "ipython3",
   "version": "3.8.3"
  },
  "orig_nbformat": 4,
  "vscode": {
   "interpreter": {
    "hash": "570feb405e2e27c949193ac68f46852414290d515b0ba6e5d90d076ed2284471"
   }
  }
 },
 "nbformat": 4,
 "nbformat_minor": 2
}
